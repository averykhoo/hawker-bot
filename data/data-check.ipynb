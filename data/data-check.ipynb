{
 "cells": [
  {
   "cell_type": "code",
   "execution_count": 1,
   "metadata": {
    "collapsed": true
   },
   "outputs": [],
   "source": [
    "import pandas as pd"
   ]
  },
  {
   "cell_type": "code",
   "execution_count": 2,
   "outputs": [],
   "source": [
    "df_1 = pd.read_csv('dates-of-hawker-centres-closure/dates-of-hawker-centres-closure--2021-03-17--17-34-42.csv')\n",
    "df_2 = pd.read_csv('hawker-centres/hawker-centres.csv')"
   ],
   "metadata": {
    "collapsed": false,
    "pycharm": {
     "name": "#%%\n"
    }
   }
  },
  {
   "cell_type": "code",
   "execution_count": 4,
   "outputs": [
    {
     "data": {
      "text/plain": "     _id  serial_no                                               name  \\\n0      1          1                              Adam Road Food Centre   \n1      2          2  Aljunied Ave 2 Blk 117 (Blk 117 Aljunied Marke...   \n2      3          3   Amoy Street Food Centre (Telok Ayer Food Centre)   \n3      4          4  Ang Mo Kio Ave 1 Blk 226D (Kebun Baru Market a...   \n4      5          5         Ang Mo Kio Ave 1 Blk 341 (Teck Ghee Court)   \n..   ...        ...                                                ...   \n109  110        110  Whampoa Drive Blk 90 (Whampoa Drive Makan Plac...   \n110  111        111  Whampoa Drive Blk 91/92 (Whampoa Drive Makan P...   \n111  112        112                          Yishun Park Hawker Centre   \n112  113        113  Yishun Ring Road Blk 104/105 (Chong Pang Marke...   \n113  114        114                         Zion Riverside Food Centre   \n\n    q1_cleaningstartdate q1_cleaningenddate remarks_q1 q2_cleaningstartdate  \\\n0               8/3/2021           8/3/2021        nil             7/6/2021   \n1              15/3/2021          16/3/2021        nil            21/6/2021   \n2               6/3/2021           6/3/2021        nil             5/6/2021   \n3              15/3/2021          17/3/2021        nil            21/6/2021   \n4              22/2/2021          23/2/2021        nil             3/5/2021   \n..                   ...                ...        ...                  ...   \n109            16/3/2021          16/3/2021        nil            22/6/2021   \n110            15/3/2021          15/3/2021        nil            21/6/2021   \n111             8/3/2021           9/3/2021        nil             7/6/2021   \n112            22/3/2021          22/3/2021        nil            28/6/2021   \n113                  TBC                TBC        nil                  TBC   \n\n    q2_cleaningenddate remarks_q2 q3_cleaningstartdate  ... latitude_hc  \\\n0             7/6/2021        nil             6/9/2021  ...    1.324132   \n1            22/6/2021        nil            13/9/2021  ...    1.320710   \n2             5/6/2021        nil             4/9/2021  ...    1.279129   \n3            21/6/2021        nil            13/9/2021  ...    1.366950   \n4             4/5/2021        nil            16/8/2021  ...    1.364170   \n..                 ...        ...                  ...  ...         ...   \n109          22/6/2021        nil            27/9/2021  ...    1.323140   \n110          21/6/2021        nil            13/9/2021  ...    1.323490   \n111           8/6/2021        nil             6/9/2021  ...    1.424911   \n112          28/6/2021        nil            13/9/2021  ...    1.431658   \n113                TBC        nil            25/8/2021  ...    1.292340   \n\n    longitude_hc                                           photourl  \\\n0     103.814163  http://www.nea.gov.sg/images/default-source/Ha...   \n1     103.887093  http://www.nea.gov.sg/images/default-source/Ha...   \n2     103.846985  http://www.nea.gov.sg/images/default-source/Ha...   \n3     103.839188  http://www.nea.gov.sg/images/default-source/Ha...   \n4     103.848320  http://www.nea.gov.sg/images/default-source/Ha...   \n..           ...                                                ...   \n109   103.855041  http://www.nea.gov.sg/images/default-source/Ha...   \n110   103.854134  http://www.nea.gov.sg/images/default-source/Ha...   \n111   103.844992  http://www.nea.gov.sg/images/default-source/Ha...   \n112   103.828072  http://www.nea.gov.sg/images/default-source/Ha...   \n113   103.831184  http://www.nea.gov.sg/images/default-source/Ha...   \n\n                                         address_myenv no_of_market_stalls  \\\n0                       2, Adam Road, Singapore 289876                   0   \n1            Blk 117, Aljunied Ave 2, Singapore 380117                  82   \n2    National Development Building, Annex B, Telok ...                   1   \n3         Blk 226D, Ang Mo Kio Ave 1, Singapore 564226                 101   \n4          Blk 341, Ang Mo Kio Ave 1, Singapore 560341                  86   \n..                                                 ...                 ...   \n109            Blk 90, Whampoa Drive, Singapore 320090                  12   \n110  Blk 91/92, Whampoa Drive, Singapore 320091/320092                 112   \n111         Blk 51, Yishun Avenue 11, Singapore 768867                   0   \n112  Blk 104/105, Yishun Ring Road, Singapore 76010...                 123   \n113                    70, Zion Road, Singapore 247792                   0   \n\n    no_of_food_stalls                                  description_myenv  \\\n0                  32  Built in 1974, Adam Food Centre comprises 32 c...   \n1                  79  Next to Geylang East Swimming Complex and othe...   \n2                 134  Built in 1983, the two-storey food centre is l...   \n3                  10  Located next to a food centre, the hawker cent...   \n4                  32  Located in the heart of Teck Ghee estate and o...   \n..                ...                                                ...   \n109                80  Known also as Whampoa Drive Makan Place, this ...   \n110                52  Known also as Whampoa Drive Makan Place, this ...   \n111                45  Built in 2017, the hawker centre at Yishun Par...   \n112                56  Built in 1984, the hawker centre comprises 56 ...   \n113                32  Located opposite Great World City, Zion Rivers...   \n\n             status                         google_3d_view  google_for_stall  \n0          Existing  https://goo.gl/maps/ZMLJeP8STKpDP9so9               nil  \n1          Existing  https://goo.gl/maps/XVjxu6hgpcwt15JC8               nil  \n2          Existing  https://goo.gl/maps/RiX319zQXRFeHWPE6               nil  \n3          Existing  https://goo.gl/maps/CAJGbiEU4o46xfbR8               nil  \n4          Existing  https://goo.gl/maps/quL2H4mojGZfZsHA6               nil  \n..              ...                                    ...               ...  \n109        Existing  https://goo.gl/maps/PQXB1ifE7PrnMbAf7               nil  \n110        Existing  https://goo.gl/maps/vERiFeXoGi8jDfjJ8               nil  \n111  Existing (new)  https://goo.gl/maps/jqWXYVF17BiAz7bP9               nil  \n112        Existing  https://goo.gl/maps/dPjV2SSaX9nEXV1u8               nil  \n113        Existing  https://goo.gl/maps/8kwxWX9gy3J3Mna58               nil  \n\n[114 rows x 28 columns]",
      "text/html": "<div>\n<style scoped>\n    .dataframe tbody tr th:only-of-type {\n        vertical-align: middle;\n    }\n\n    .dataframe tbody tr th {\n        vertical-align: top;\n    }\n\n    .dataframe thead th {\n        text-align: right;\n    }\n</style>\n<table border=\"1\" class=\"dataframe\">\n  <thead>\n    <tr style=\"text-align: right;\">\n      <th></th>\n      <th>_id</th>\n      <th>serial_no</th>\n      <th>name</th>\n      <th>q1_cleaningstartdate</th>\n      <th>q1_cleaningenddate</th>\n      <th>remarks_q1</th>\n      <th>q2_cleaningstartdate</th>\n      <th>q2_cleaningenddate</th>\n      <th>remarks_q2</th>\n      <th>q3_cleaningstartdate</th>\n      <th>...</th>\n      <th>latitude_hc</th>\n      <th>longitude_hc</th>\n      <th>photourl</th>\n      <th>address_myenv</th>\n      <th>no_of_market_stalls</th>\n      <th>no_of_food_stalls</th>\n      <th>description_myenv</th>\n      <th>status</th>\n      <th>google_3d_view</th>\n      <th>google_for_stall</th>\n    </tr>\n  </thead>\n  <tbody>\n    <tr>\n      <th>0</th>\n      <td>1</td>\n      <td>1</td>\n      <td>Adam Road Food Centre</td>\n      <td>8/3/2021</td>\n      <td>8/3/2021</td>\n      <td>nil</td>\n      <td>7/6/2021</td>\n      <td>7/6/2021</td>\n      <td>nil</td>\n      <td>6/9/2021</td>\n      <td>...</td>\n      <td>1.324132</td>\n      <td>103.814163</td>\n      <td>http://www.nea.gov.sg/images/default-source/Ha...</td>\n      <td>2, Adam Road, Singapore 289876</td>\n      <td>0</td>\n      <td>32</td>\n      <td>Built in 1974, Adam Food Centre comprises 32 c...</td>\n      <td>Existing</td>\n      <td>https://goo.gl/maps/ZMLJeP8STKpDP9so9</td>\n      <td>nil</td>\n    </tr>\n    <tr>\n      <th>1</th>\n      <td>2</td>\n      <td>2</td>\n      <td>Aljunied Ave 2 Blk 117 (Blk 117 Aljunied Marke...</td>\n      <td>15/3/2021</td>\n      <td>16/3/2021</td>\n      <td>nil</td>\n      <td>21/6/2021</td>\n      <td>22/6/2021</td>\n      <td>nil</td>\n      <td>13/9/2021</td>\n      <td>...</td>\n      <td>1.320710</td>\n      <td>103.887093</td>\n      <td>http://www.nea.gov.sg/images/default-source/Ha...</td>\n      <td>Blk 117, Aljunied Ave 2, Singapore 380117</td>\n      <td>82</td>\n      <td>79</td>\n      <td>Next to Geylang East Swimming Complex and othe...</td>\n      <td>Existing</td>\n      <td>https://goo.gl/maps/XVjxu6hgpcwt15JC8</td>\n      <td>nil</td>\n    </tr>\n    <tr>\n      <th>2</th>\n      <td>3</td>\n      <td>3</td>\n      <td>Amoy Street Food Centre (Telok Ayer Food Centre)</td>\n      <td>6/3/2021</td>\n      <td>6/3/2021</td>\n      <td>nil</td>\n      <td>5/6/2021</td>\n      <td>5/6/2021</td>\n      <td>nil</td>\n      <td>4/9/2021</td>\n      <td>...</td>\n      <td>1.279129</td>\n      <td>103.846985</td>\n      <td>http://www.nea.gov.sg/images/default-source/Ha...</td>\n      <td>National Development Building, Annex B, Telok ...</td>\n      <td>1</td>\n      <td>134</td>\n      <td>Built in 1983, the two-storey food centre is l...</td>\n      <td>Existing</td>\n      <td>https://goo.gl/maps/RiX319zQXRFeHWPE6</td>\n      <td>nil</td>\n    </tr>\n    <tr>\n      <th>3</th>\n      <td>4</td>\n      <td>4</td>\n      <td>Ang Mo Kio Ave 1 Blk 226D (Kebun Baru Market a...</td>\n      <td>15/3/2021</td>\n      <td>17/3/2021</td>\n      <td>nil</td>\n      <td>21/6/2021</td>\n      <td>21/6/2021</td>\n      <td>nil</td>\n      <td>13/9/2021</td>\n      <td>...</td>\n      <td>1.366950</td>\n      <td>103.839188</td>\n      <td>http://www.nea.gov.sg/images/default-source/Ha...</td>\n      <td>Blk 226D, Ang Mo Kio Ave 1, Singapore 564226</td>\n      <td>101</td>\n      <td>10</td>\n      <td>Located next to a food centre, the hawker cent...</td>\n      <td>Existing</td>\n      <td>https://goo.gl/maps/CAJGbiEU4o46xfbR8</td>\n      <td>nil</td>\n    </tr>\n    <tr>\n      <th>4</th>\n      <td>5</td>\n      <td>5</td>\n      <td>Ang Mo Kio Ave 1 Blk 341 (Teck Ghee Court)</td>\n      <td>22/2/2021</td>\n      <td>23/2/2021</td>\n      <td>nil</td>\n      <td>3/5/2021</td>\n      <td>4/5/2021</td>\n      <td>nil</td>\n      <td>16/8/2021</td>\n      <td>...</td>\n      <td>1.364170</td>\n      <td>103.848320</td>\n      <td>http://www.nea.gov.sg/images/default-source/Ha...</td>\n      <td>Blk 341, Ang Mo Kio Ave 1, Singapore 560341</td>\n      <td>86</td>\n      <td>32</td>\n      <td>Located in the heart of Teck Ghee estate and o...</td>\n      <td>Existing</td>\n      <td>https://goo.gl/maps/quL2H4mojGZfZsHA6</td>\n      <td>nil</td>\n    </tr>\n    <tr>\n      <th>...</th>\n      <td>...</td>\n      <td>...</td>\n      <td>...</td>\n      <td>...</td>\n      <td>...</td>\n      <td>...</td>\n      <td>...</td>\n      <td>...</td>\n      <td>...</td>\n      <td>...</td>\n      <td>...</td>\n      <td>...</td>\n      <td>...</td>\n      <td>...</td>\n      <td>...</td>\n      <td>...</td>\n      <td>...</td>\n      <td>...</td>\n      <td>...</td>\n      <td>...</td>\n      <td>...</td>\n    </tr>\n    <tr>\n      <th>109</th>\n      <td>110</td>\n      <td>110</td>\n      <td>Whampoa Drive Blk 90 (Whampoa Drive Makan Plac...</td>\n      <td>16/3/2021</td>\n      <td>16/3/2021</td>\n      <td>nil</td>\n      <td>22/6/2021</td>\n      <td>22/6/2021</td>\n      <td>nil</td>\n      <td>27/9/2021</td>\n      <td>...</td>\n      <td>1.323140</td>\n      <td>103.855041</td>\n      <td>http://www.nea.gov.sg/images/default-source/Ha...</td>\n      <td>Blk 90, Whampoa Drive, Singapore 320090</td>\n      <td>12</td>\n      <td>80</td>\n      <td>Known also as Whampoa Drive Makan Place, this ...</td>\n      <td>Existing</td>\n      <td>https://goo.gl/maps/PQXB1ifE7PrnMbAf7</td>\n      <td>nil</td>\n    </tr>\n    <tr>\n      <th>110</th>\n      <td>111</td>\n      <td>111</td>\n      <td>Whampoa Drive Blk 91/92 (Whampoa Drive Makan P...</td>\n      <td>15/3/2021</td>\n      <td>15/3/2021</td>\n      <td>nil</td>\n      <td>21/6/2021</td>\n      <td>21/6/2021</td>\n      <td>nil</td>\n      <td>13/9/2021</td>\n      <td>...</td>\n      <td>1.323490</td>\n      <td>103.854134</td>\n      <td>http://www.nea.gov.sg/images/default-source/Ha...</td>\n      <td>Blk 91/92, Whampoa Drive, Singapore 320091/320092</td>\n      <td>112</td>\n      <td>52</td>\n      <td>Known also as Whampoa Drive Makan Place, this ...</td>\n      <td>Existing</td>\n      <td>https://goo.gl/maps/vERiFeXoGi8jDfjJ8</td>\n      <td>nil</td>\n    </tr>\n    <tr>\n      <th>111</th>\n      <td>112</td>\n      <td>112</td>\n      <td>Yishun Park Hawker Centre</td>\n      <td>8/3/2021</td>\n      <td>9/3/2021</td>\n      <td>nil</td>\n      <td>7/6/2021</td>\n      <td>8/6/2021</td>\n      <td>nil</td>\n      <td>6/9/2021</td>\n      <td>...</td>\n      <td>1.424911</td>\n      <td>103.844992</td>\n      <td>http://www.nea.gov.sg/images/default-source/Ha...</td>\n      <td>Blk 51, Yishun Avenue 11, Singapore 768867</td>\n      <td>0</td>\n      <td>45</td>\n      <td>Built in 2017, the hawker centre at Yishun Par...</td>\n      <td>Existing (new)</td>\n      <td>https://goo.gl/maps/jqWXYVF17BiAz7bP9</td>\n      <td>nil</td>\n    </tr>\n    <tr>\n      <th>112</th>\n      <td>113</td>\n      <td>113</td>\n      <td>Yishun Ring Road Blk 104/105 (Chong Pang Marke...</td>\n      <td>22/3/2021</td>\n      <td>22/3/2021</td>\n      <td>nil</td>\n      <td>28/6/2021</td>\n      <td>28/6/2021</td>\n      <td>nil</td>\n      <td>13/9/2021</td>\n      <td>...</td>\n      <td>1.431658</td>\n      <td>103.828072</td>\n      <td>http://www.nea.gov.sg/images/default-source/Ha...</td>\n      <td>Blk 104/105, Yishun Ring Road, Singapore 76010...</td>\n      <td>123</td>\n      <td>56</td>\n      <td>Built in 1984, the hawker centre comprises 56 ...</td>\n      <td>Existing</td>\n      <td>https://goo.gl/maps/dPjV2SSaX9nEXV1u8</td>\n      <td>nil</td>\n    </tr>\n    <tr>\n      <th>113</th>\n      <td>114</td>\n      <td>114</td>\n      <td>Zion Riverside Food Centre</td>\n      <td>TBC</td>\n      <td>TBC</td>\n      <td>nil</td>\n      <td>TBC</td>\n      <td>TBC</td>\n      <td>nil</td>\n      <td>25/8/2021</td>\n      <td>...</td>\n      <td>1.292340</td>\n      <td>103.831184</td>\n      <td>http://www.nea.gov.sg/images/default-source/Ha...</td>\n      <td>70, Zion Road, Singapore 247792</td>\n      <td>0</td>\n      <td>32</td>\n      <td>Located opposite Great World City, Zion Rivers...</td>\n      <td>Existing</td>\n      <td>https://goo.gl/maps/8kwxWX9gy3J3Mna58</td>\n      <td>nil</td>\n    </tr>\n  </tbody>\n</table>\n<p>114 rows × 28 columns</p>\n</div>"
     },
     "execution_count": 4,
     "metadata": {},
     "output_type": "execute_result"
    }
   ],
   "source": [
    "df_1"
   ],
   "metadata": {
    "collapsed": false,
    "pycharm": {
     "name": "#%%\n"
    }
   }
  },
  {
   "cell_type": "code",
   "execution_count": 5,
   "outputs": [
    {
     "data": {
      "text/plain": "                                                  NAME  LATITUDE   LONGITUDE  \\\n0    Ang Mo Kio Ave 10 Blk 527 (Cheng San Market an...  1.372710  103.854446   \n1                                    Bedok Food Centre  1.320353  103.955475   \n2                       East Coast Lagoon Food Village  1.307730  103.934303   \n3    Jalan Batu Blk 4A (Blk 4A Jalan Batu Hawker Ce...  1.302430  103.883980   \n4                              Serangoon Garden Market  1.363540  103.866981   \n..                                                 ...       ...         ...   \n120                          Jurong West Hawker Centre  1.341223  103.697374   \n121  Bukit Merah View Blk 115 (Blk 115 Bukit Merah ...  1.285240  103.822372   \n122                        Bukit Panjang Hawker Centre  1.378269  103.772432   \n123                                 Bukit Timah Market  1.339645  103.775803   \n124  Cambridge Road Blk 41A (Pek Kio Market and Foo...  1.316200  103.850304   \n\n                                    ADDRESS_MYENV  \\\n0    Blk 527, Ang Mo Kio Ave 10, Singapore 560527   \n1                 1, Bedok Road, Singapore 469572   \n2      1220, East Coast Parkway, Singapore 468960   \n3            Blk 4A, Jalan Batu, Singapore 432004   \n4     49A, Serangoon Garden Way, Singapore 555945   \n..                                            ...   \n120   Blk 50, Jurong West St 61, Singapore 648202   \n121   Blk 115, Bukit Merah View, Singapore 151115   \n122   2 Bukit Panjang Ring Road, Singapore 679947   \n123  51, Upper Bukit Timah Road, Singapore 588215   \n124     Blk 41A, Cambridge Road, Singapore 211041   \n\n                                     DESCRIPTION_MYENV ADDRESSTYPE  \\\n0    Commonly known as Cheng San Market and Cooked ...           I   \n1    Located at the corner of Upper East Coast Road...           I   \n2    Located in the south-eastern part of Singapore...           I   \n3    Built in 1969, Blk 4A Jalan Batu comprises bot...           I   \n4    Within walking distance from the famous Chomp ...           I   \n..                                                 ...         ...   \n120  Completed in 2017, Jurong West Hawker Centre p...         NaN   \n121  Built in 1973, the hawker centre comprises 84 ...           I   \n122  Bukit Panjang Hawker Centre & Market is one of...         NaN   \n123  Located along Upper Bukit Timah Road, the two-...           I   \n124  More commonly known as Pek Kio Market and Food...           I   \n\n    ADDRESSBLOCKHOUSENUMBER        ADDRESSSTREETNAME  ADDRESSPOSTALCODE  \\\n0                       527        Ang Mo Kio Ave 10           560527.0   \n1                         1               Bedok Road           469572.0   \n2                      1220       East Coast Parkway           468960.0   \n3                        4A               Jalan Batu           432004.0   \n4                       49A     Serangoon Garden Way           555945.0   \n..                      ...                      ...                ...   \n120                      50    Jurong West Street 61           648202.0   \n121                     115         Bukit Merah View           151115.0   \n122                       2  Bukit Panjang Ring Road           679947.0   \n123                      51   Upper Bukit Timah Road           588215.0   \n124                     41A           Cambridge Road           211041.0   \n\n           ADDRESSBUILDINGNAME   REGION  \\\n0                          NaN    North   \n1                          NaN     East   \n2                          NaN     East   \n3                          NaN     East   \n4                          NaN    North   \n..                         ...      ...   \n120  Jurong West Hawker Centre     West   \n121                        NaN     West   \n122                        NaN     West   \n123                        NaN     West   \n124                        NaN  Central   \n\n                                              PHOTOURL              STATUS  \n0    http://www.nea.gov.sg/images/default-source/Ha...            Existing  \n1    http://www.nea.gov.sg/images/default-source/Ha...            Existing  \n2    http://www.nea.gov.sg/images/default-source/Ha...            Existing  \n3    http://www.nea.gov.sg/images/default-source/Ha...            Existing  \n4    http://www.nea.gov.sg/images/default-source/Ha...            Existing  \n..                                                 ...                 ...  \n120  http://www.nea.gov.sg/images/default-source/Ha...  Under Construction  \n121  http://www.nea.gov.sg/images/default-source/Ha...            Existing  \n122  http://www.nea.gov.sg/images/default-source/Ha...      Existing (new)  \n123  http://www.nea.gov.sg/images/default-source/Ha...            Existing  \n124  http://www.nea.gov.sg/images/default-source/Ha...            Existing  \n\n[125 rows x 13 columns]",
      "text/html": "<div>\n<style scoped>\n    .dataframe tbody tr th:only-of-type {\n        vertical-align: middle;\n    }\n\n    .dataframe tbody tr th {\n        vertical-align: top;\n    }\n\n    .dataframe thead th {\n        text-align: right;\n    }\n</style>\n<table border=\"1\" class=\"dataframe\">\n  <thead>\n    <tr style=\"text-align: right;\">\n      <th></th>\n      <th>NAME</th>\n      <th>LATITUDE</th>\n      <th>LONGITUDE</th>\n      <th>ADDRESS_MYENV</th>\n      <th>DESCRIPTION_MYENV</th>\n      <th>ADDRESSTYPE</th>\n      <th>ADDRESSBLOCKHOUSENUMBER</th>\n      <th>ADDRESSSTREETNAME</th>\n      <th>ADDRESSPOSTALCODE</th>\n      <th>ADDRESSBUILDINGNAME</th>\n      <th>REGION</th>\n      <th>PHOTOURL</th>\n      <th>STATUS</th>\n    </tr>\n  </thead>\n  <tbody>\n    <tr>\n      <th>0</th>\n      <td>Ang Mo Kio Ave 10 Blk 527 (Cheng San Market an...</td>\n      <td>1.372710</td>\n      <td>103.854446</td>\n      <td>Blk 527, Ang Mo Kio Ave 10, Singapore 560527</td>\n      <td>Commonly known as Cheng San Market and Cooked ...</td>\n      <td>I</td>\n      <td>527</td>\n      <td>Ang Mo Kio Ave 10</td>\n      <td>560527.0</td>\n      <td>NaN</td>\n      <td>North</td>\n      <td>http://www.nea.gov.sg/images/default-source/Ha...</td>\n      <td>Existing</td>\n    </tr>\n    <tr>\n      <th>1</th>\n      <td>Bedok Food Centre</td>\n      <td>1.320353</td>\n      <td>103.955475</td>\n      <td>1, Bedok Road, Singapore 469572</td>\n      <td>Located at the corner of Upper East Coast Road...</td>\n      <td>I</td>\n      <td>1</td>\n      <td>Bedok Road</td>\n      <td>469572.0</td>\n      <td>NaN</td>\n      <td>East</td>\n      <td>http://www.nea.gov.sg/images/default-source/Ha...</td>\n      <td>Existing</td>\n    </tr>\n    <tr>\n      <th>2</th>\n      <td>East Coast Lagoon Food Village</td>\n      <td>1.307730</td>\n      <td>103.934303</td>\n      <td>1220, East Coast Parkway, Singapore 468960</td>\n      <td>Located in the south-eastern part of Singapore...</td>\n      <td>I</td>\n      <td>1220</td>\n      <td>East Coast Parkway</td>\n      <td>468960.0</td>\n      <td>NaN</td>\n      <td>East</td>\n      <td>http://www.nea.gov.sg/images/default-source/Ha...</td>\n      <td>Existing</td>\n    </tr>\n    <tr>\n      <th>3</th>\n      <td>Jalan Batu Blk 4A (Blk 4A Jalan Batu Hawker Ce...</td>\n      <td>1.302430</td>\n      <td>103.883980</td>\n      <td>Blk 4A, Jalan Batu, Singapore 432004</td>\n      <td>Built in 1969, Blk 4A Jalan Batu comprises bot...</td>\n      <td>I</td>\n      <td>4A</td>\n      <td>Jalan Batu</td>\n      <td>432004.0</td>\n      <td>NaN</td>\n      <td>East</td>\n      <td>http://www.nea.gov.sg/images/default-source/Ha...</td>\n      <td>Existing</td>\n    </tr>\n    <tr>\n      <th>4</th>\n      <td>Serangoon Garden Market</td>\n      <td>1.363540</td>\n      <td>103.866981</td>\n      <td>49A, Serangoon Garden Way, Singapore 555945</td>\n      <td>Within walking distance from the famous Chomp ...</td>\n      <td>I</td>\n      <td>49A</td>\n      <td>Serangoon Garden Way</td>\n      <td>555945.0</td>\n      <td>NaN</td>\n      <td>North</td>\n      <td>http://www.nea.gov.sg/images/default-source/Ha...</td>\n      <td>Existing</td>\n    </tr>\n    <tr>\n      <th>...</th>\n      <td>...</td>\n      <td>...</td>\n      <td>...</td>\n      <td>...</td>\n      <td>...</td>\n      <td>...</td>\n      <td>...</td>\n      <td>...</td>\n      <td>...</td>\n      <td>...</td>\n      <td>...</td>\n      <td>...</td>\n      <td>...</td>\n    </tr>\n    <tr>\n      <th>120</th>\n      <td>Jurong West Hawker Centre</td>\n      <td>1.341223</td>\n      <td>103.697374</td>\n      <td>Blk 50, Jurong West St 61, Singapore 648202</td>\n      <td>Completed in 2017, Jurong West Hawker Centre p...</td>\n      <td>NaN</td>\n      <td>50</td>\n      <td>Jurong West Street 61</td>\n      <td>648202.0</td>\n      <td>Jurong West Hawker Centre</td>\n      <td>West</td>\n      <td>http://www.nea.gov.sg/images/default-source/Ha...</td>\n      <td>Under Construction</td>\n    </tr>\n    <tr>\n      <th>121</th>\n      <td>Bukit Merah View Blk 115 (Blk 115 Bukit Merah ...</td>\n      <td>1.285240</td>\n      <td>103.822372</td>\n      <td>Blk 115, Bukit Merah View, Singapore 151115</td>\n      <td>Built in 1973, the hawker centre comprises 84 ...</td>\n      <td>I</td>\n      <td>115</td>\n      <td>Bukit Merah View</td>\n      <td>151115.0</td>\n      <td>NaN</td>\n      <td>West</td>\n      <td>http://www.nea.gov.sg/images/default-source/Ha...</td>\n      <td>Existing</td>\n    </tr>\n    <tr>\n      <th>122</th>\n      <td>Bukit Panjang Hawker Centre</td>\n      <td>1.378269</td>\n      <td>103.772432</td>\n      <td>2 Bukit Panjang Ring Road, Singapore 679947</td>\n      <td>Bukit Panjang Hawker Centre &amp; Market is one of...</td>\n      <td>NaN</td>\n      <td>2</td>\n      <td>Bukit Panjang Ring Road</td>\n      <td>679947.0</td>\n      <td>NaN</td>\n      <td>West</td>\n      <td>http://www.nea.gov.sg/images/default-source/Ha...</td>\n      <td>Existing (new)</td>\n    </tr>\n    <tr>\n      <th>123</th>\n      <td>Bukit Timah Market</td>\n      <td>1.339645</td>\n      <td>103.775803</td>\n      <td>51, Upper Bukit Timah Road, Singapore 588215</td>\n      <td>Located along Upper Bukit Timah Road, the two-...</td>\n      <td>I</td>\n      <td>51</td>\n      <td>Upper Bukit Timah Road</td>\n      <td>588215.0</td>\n      <td>NaN</td>\n      <td>West</td>\n      <td>http://www.nea.gov.sg/images/default-source/Ha...</td>\n      <td>Existing</td>\n    </tr>\n    <tr>\n      <th>124</th>\n      <td>Cambridge Road Blk 41A (Pek Kio Market and Foo...</td>\n      <td>1.316200</td>\n      <td>103.850304</td>\n      <td>Blk 41A, Cambridge Road, Singapore 211041</td>\n      <td>More commonly known as Pek Kio Market and Food...</td>\n      <td>I</td>\n      <td>41A</td>\n      <td>Cambridge Road</td>\n      <td>211041.0</td>\n      <td>NaN</td>\n      <td>Central</td>\n      <td>http://www.nea.gov.sg/images/default-source/Ha...</td>\n      <td>Existing</td>\n    </tr>\n  </tbody>\n</table>\n<p>125 rows × 13 columns</p>\n</div>"
     },
     "execution_count": 5,
     "metadata": {},
     "output_type": "execute_result"
    }
   ],
   "source": [
    "df_2"
   ],
   "metadata": {
    "collapsed": false,
    "pycharm": {
     "name": "#%%\n"
    }
   }
  },
  {
   "cell_type": "code",
   "execution_count": 8,
   "outputs": [
    {
     "name": "stdout",
     "output_type": "stream",
     "text": [
      "True Adam Road Food Centre\n",
      "True Aljunied Ave 2 Blk 117 (Blk 117 Aljunied Market and Food Centre)\n",
      "True Amoy Street Food Centre (Telok Ayer Food Centre)\n",
      "True Ang Mo Kio Ave 1 Blk 226D (Kebun Baru Market and Food Centre)\n",
      "True Ang Mo Kio Ave 1 Blk 341 (Teck Ghee Court)\n",
      "True Ang Mo Kio Ave 10 Blk 409 (Teck Ghee Square)\n",
      "True Ang Mo Kio Ave 10 Blk 453A (Chong Boon Market and Food Centre)\n",
      "True Ang Mo Kio Ave 10 Blk 527 (Cheng San Market and Cooked Food Centre)\n",
      "True Ang Mo Kio Ave 4 Blk 160/162 (Mayflower Market)\n",
      "True Ang Mo Kio Ave 4 Blk 628 (Ang Mo Kio 628 Market)\n",
      "True Ang Mo Kio Ave 6 Blk 724 (Blk 724 Ang Mo Kio Market)\n",
      "True Ang Mo Kio Street 22 Blk 226H (Kebun Baru Food Centre)\n",
      "True Bedok Food Centre\n",
      "True Bedok North Street 1 Blk 216\n",
      "True Bedok North Street 3 Blk 511 (Kaki Bukit 511 Market and Food Centre)\n",
      "True Bedok North Street 3 Blk 538\n",
      "True Bedok North Street 4 Blk 85 (85 Fengshan Centre)\n",
      "True Bedok Reservoir Road Blk 630\n",
      "True Bedok South Road Blk 16\n",
      "True Bendemeer Road Blk 29 (Bendemeer Market and Food Centre)\n",
      "True Beo Crescent Market\n",
      "True Berseh Food Centre\n",
      "True Boon Lay Place Blk 221A/B (Boon Lay Place Market and Food Village)\n",
      "True Buffalo Road Blk 665 (Tekka Centre/Zhu Jiao Market)\n",
      "True Bukit Merah Central Blk 163 (Bukit Merah Central Food Centre)\n",
      "True Bukit Merah Lane 1 Blk 120 (Alexandra Village Food Centre)\n",
      "True Bukit Merah View Blk 115 (Blk 115 Bukit Merah View Market and Food Centre)\n",
      "True Bukit Panjang Hawker Centre\n",
      "True Bukit Timah Market\n",
      "True Cambridge Road Blk 41A (Pek Kio Market and Food Centre)\n",
      "True Changi Village Blk 2 and 3\n",
      "True Chomp Chomp Food Centre\n",
      "True Ci Yuan Hawker Centre\n",
      "True Circuit Road Blk 79/79A\n",
      "True Circuit Road Blk 80 (80 Circuit Road Market and Food Centre)\n",
      "True Circuit Road Blk 89\n",
      "True Clementi Ave 2 Blk 353 (Clementi Ave 2 Market/Cooked Food Centre)\n",
      "True Clementi Ave 3 Blk 448\n",
      "True Clementi West Street 2 Blk 726\n",
      "True Commonwealth Crescent Market\n",
      "True Commonwealth Drive Blk 1A/2A/3A (Tanglin Halt Food Centre/Commonwealth Drive Food Centre)\n",
      "True Dunman Food Centre\n",
      "True East Coast Lagoon Food Village\n",
      "True Empress Road Blk 7 (Empress Road Market and Food Centre)\n",
      "True Eunos Crescent Blk 4A\n",
      "True Geylang Bahru Blk 69 (Blk 69 Geylang Bahru Market and Food Centre)\n",
      "True Geylang Serai Market\n",
      "True Ghim Moh Road Blk 20\n",
      "True Golden Mile Food Centre\n",
      "True Haig Road Blk 13/14 (Haig Road Market and Cooked Food Centre)\n",
      "True Havelock Road Blk 22A/B (Havelock Road Cooked Food Centre)\n",
      "True Holland Drive Blk 44 (Holland Drive Market and Food Centre)\n",
      "True Holland Village Market and Food Centre\n",
      "True Hougang Ave 1 Blk 105 (Hougang 105 Hainanese Village Centre)\n",
      "True Hougang Street 21 Blk 209 (Kovan Hougang Market and Food Centre)\n",
      "True Jalan Batu Blk 4A (Blk 4A Jalan Batu Hawker Centre/Market)\n",
      "True Jalan Bukit Merah Blk 112 (Blk 112 Jalan Bukit Merah Market and Food Centre)\n",
      "True Jalan Bukit Merah Blk 6 (ABC Brickworks Market/Food Centre)\n",
      "True Jalan Kukoh Blk 1 (Kukoh 21 Food Centre)\n",
      "True Jurong East Ave 1 Blk 347 (Yuhua Market and Hawker Centre)\n",
      "True Jurong East Street 24 Blk 254 (Yuhua Village Market and Food Centre)\n",
      "True Jurong West Hawker Centre\n",
      "True Jurong West Street 52 Blk 505\n",
      "True Kallang Estate Fresh Market and Food Centre\n",
      "True Kampung Admiralty Hawker Centre\n",
      "True Marine Parade Central Blk 84 (84 Marine Parade Central Market and Food Centre)\n",
      "True Marine Terrace Blk 50A (50A Marine Terrace)\n",
      "True Market Street Interim Hawker Centre\n",
      "True Marsiling Lane Blk 20/21\n",
      "True Marsiling Mall Hawker Centre\n",
      "True Maxwell Food Centre (Kim Hua Market)\n",
      "True Mei Chin Road Blk 159 (Mei Chin Road Market)\n",
      "True New Market Road Blk 32 (People's Park Food Centre)\n",
      "True New Upper Changi Road Blk 208B\n",
      "True New Upper Changi Road Blk 58\n",
      "True Newton Food Centre\n",
      "True North Bridge Road Market\n",
      "True Old Airport Road Blk 51 (51 Old Airport Road Food Centre and Shopping Mall)\n",
      "True Our Tampines Hub\n",
      "True Pasir Panjang Food Centre\n",
      "True Pasir Ris Central Hawker Centre\n",
      "True Queen Street Blk 270 (Albert Centre)\n",
      "True Redhill Lane Blk 79 (Redhill Market)\n",
      "True Redhill Lane Blk 85 (Redhill Food Centre)\n",
      "True Sembawang Hills Food Centre (Jalan Leban Food Centre)\n",
      "True Serangoon Garden Market\n",
      "True Shunfu Road Blk 320 (Shunfu Mart)\n",
      "True Sims Place Blk 49 (Sims Vista Market and Food Centre)\n",
      "True Smith Street Blk 335 (Chinatown Complex Market)\n",
      "True Taman Jurong Market and Food Centre\n",
      "True Tampines Street 11 Blk 137 (Tampines Round Market and Food Centre)\n",
      "True Tanglin Halt Market\n",
      "True Tanjong Pagar Plaza Blk 6 (Blk 6 Tanjong Pagar Plaza Market and Food Centre)\n",
      "True Teban Gardens Road Blk 37A (Teban Gardens Market and Food Centre)\n",
      "True Telok Blangah Crescent Blk 11 (11 Telok Blangah Crescent Market and Food Centre)\n",
      "True Telok Blangah Drive Blk 79 (Telok Blangah Food Centre)\n",
      "True Telok Blangah Drive Blk 82 (Telok Blangah Market)\n",
      "True Telok Blangah Rise Blk 36 (Telok Blangah Rise Market)\n",
      "True Tiong Bahru Market\n",
      "True Toa Payoh Lorong 1 Blk 127 (Toa Payoh West Market and Food Court)\n",
      "True Toa Payoh Lorong 4 Blk 74 (Toa Payoh Vista Market)\n",
      "True Toa Payoh Lorong 4 Blk 93\n",
      "True Toa Payoh Lorong 5 Blk 75\n",
      "True Toa Payoh Lorong 7 Blk 22 (Kim Keat Palm Market and Food Centre)\n",
      "True Toa Payoh Lorong 8 Blk 210\n",
      "True Upper Boon Keng Road Blk 17 (Blk 17 Upper Boon Keng Market and Food Centre)\n",
      "True Upper Cross Street Blk 531A (Hong Lim Food Centre and Market)\n",
      "True West Coast Drive Blk 502 (Ayer Rajah Market)\n",
      "True West Coast Drive Blk 503 (Ayer Rajah Food Centre)\n",
      "True Whampoa Drive Blk 90 (Whampoa Drive Makan Place/Whampoa Food Centre)\n",
      "True Whampoa Drive Blk 91/92 (Whampoa Drive Makan Place/Whampoa Market)\n",
      "True Yishun Park Hawker Centre\n",
      "True Yishun Ring Road Blk 104/105 (Chong Pang Market and Food Centre)\n",
      "True Zion Riverside Food Centre\n"
     ]
    }
   ],
   "source": [
    "for hawker_name in df_1['name']:\n",
    "    print(hawker_name in df_2['NAME'].unique(), hawker_name)"
   ],
   "metadata": {
    "collapsed": false,
    "pycharm": {
     "name": "#%%\n"
    }
   }
  },
  {
   "cell_type": "code",
   "execution_count": 11,
   "outputs": [
    {
     "data": {
      "text/plain": "      _id  serial_no                                               name  \\\n0     8.0        8.0  Ang Mo Kio Ave 10 Blk 527 (Cheng San Market an...   \n1    13.0       13.0                                  Bedok Food Centre   \n2    43.0       43.0                     East Coast Lagoon Food Village   \n3    56.0       56.0  Jalan Batu Blk 4A (Blk 4A Jalan Batu Hawker Ce...   \n4    86.0       86.0                            Serangoon Garden Market   \n..    ...        ...                                                ...   \n120  62.0       62.0                          Jurong West Hawker Centre   \n121  27.0       27.0  Bukit Merah View Blk 115 (Blk 115 Bukit Merah ...   \n122  28.0       28.0                        Bukit Panjang Hawker Centre   \n123  29.0       29.0                                 Bukit Timah Market   \n124  30.0       30.0  Cambridge Road Blk 41A (Pek Kio Market and Foo...   \n\n    q1_cleaningstartdate q1_cleaningenddate remarks_q1 q2_cleaningstartdate  \\\n0               4/1/2021           8/1/2021        nil             5/4/2021   \n1              15/3/2021          15/3/2021        nil             7/6/2021   \n2                    TBC                TBC        nil            26/4/2021   \n3                    TBC                TBC        nil             7/6/2021   \n4                    TBC                TBC        nil            14/6/2021   \n..                   ...                ...        ...                  ...   \n120                  TBC                TBC        nil                  TBC   \n121            15/3/2021          16/3/2021        nil            28/6/2021   \n122             8/3/2021          10/3/2021        nil             7/6/2021   \n123            22/2/2021          22/2/2021        nil            31/5/2021   \n124            18/1/2021          18/1/2021        nil            19/4/2021   \n\n    q2_cleaningenddate remarks_q2 q3_cleaningstartdate  ...  \\\n0             6/4/2021        nil            27/9/2021  ...   \n1             8/6/2021        nil            13/9/2021  ...   \n2            27/4/2021        nil            26/7/2021  ...   \n3             8/6/2021        nil            13/9/2021  ...   \n4            16/6/2021        nil            13/9/2021  ...   \n..                 ...        ...                  ...  ...   \n120                TBC        nil                  TBC  ...   \n121          29/6/2021        nil            27/9/2021  ...   \n122           8/6/2021        nil             6/9/2021  ...   \n123           2/6/2021        nil            13/9/2021  ...   \n124          19/4/2021        nil            12/7/2021  ...   \n\n                                    ADDRESS_MYENV  \\\n0    Blk 527, Ang Mo Kio Ave 10, Singapore 560527   \n1                 1, Bedok Road, Singapore 469572   \n2      1220, East Coast Parkway, Singapore 468960   \n3            Blk 4A, Jalan Batu, Singapore 432004   \n4     49A, Serangoon Garden Way, Singapore 555945   \n..                                            ...   \n120   Blk 50, Jurong West St 61, Singapore 648202   \n121   Blk 115, Bukit Merah View, Singapore 151115   \n122   2 Bukit Panjang Ring Road, Singapore 679947   \n123  51, Upper Bukit Timah Road, Singapore 588215   \n124     Blk 41A, Cambridge Road, Singapore 211041   \n\n                                     DESCRIPTION_MYENV ADDRESSTYPE  \\\n0    Commonly known as Cheng San Market and Cooked ...           I   \n1    Located at the corner of Upper East Coast Road...           I   \n2    Located in the south-eastern part of Singapore...           I   \n3    Built in 1969, Blk 4A Jalan Batu comprises bot...           I   \n4    Within walking distance from the famous Chomp ...           I   \n..                                                 ...         ...   \n120  Completed in 2017, Jurong West Hawker Centre p...         NaN   \n121  Built in 1973, the hawker centre comprises 84 ...           I   \n122  Bukit Panjang Hawker Centre & Market is one of...         NaN   \n123  Located along Upper Bukit Timah Road, the two-...           I   \n124  More commonly known as Pek Kio Market and Food...           I   \n\n    ADDRESSBLOCKHOUSENUMBER        ADDRESSSTREETNAME ADDRESSPOSTALCODE  \\\n0                       527        Ang Mo Kio Ave 10          560527.0   \n1                         1               Bedok Road          469572.0   \n2                      1220       East Coast Parkway          468960.0   \n3                        4A               Jalan Batu          432004.0   \n4                       49A     Serangoon Garden Way          555945.0   \n..                      ...                      ...               ...   \n120                      50    Jurong West Street 61          648202.0   \n121                     115         Bukit Merah View          151115.0   \n122                       2  Bukit Panjang Ring Road          679947.0   \n123                      51   Upper Bukit Timah Road          588215.0   \n124                     41A           Cambridge Road          211041.0   \n\n           ADDRESSBUILDINGNAME   REGION  \\\n0                          NaN    North   \n1                          NaN     East   \n2                          NaN     East   \n3                          NaN     East   \n4                          NaN    North   \n..                         ...      ...   \n120  Jurong West Hawker Centre     West   \n121                        NaN     West   \n122                        NaN     West   \n123                        NaN     West   \n124                        NaN  Central   \n\n                                              PHOTOURL              STATUS  \n0    http://www.nea.gov.sg/images/default-source/Ha...            Existing  \n1    http://www.nea.gov.sg/images/default-source/Ha...            Existing  \n2    http://www.nea.gov.sg/images/default-source/Ha...            Existing  \n3    http://www.nea.gov.sg/images/default-source/Ha...            Existing  \n4    http://www.nea.gov.sg/images/default-source/Ha...            Existing  \n..                                                 ...                 ...  \n120  http://www.nea.gov.sg/images/default-source/Ha...  Under Construction  \n121  http://www.nea.gov.sg/images/default-source/Ha...            Existing  \n122  http://www.nea.gov.sg/images/default-source/Ha...      Existing (new)  \n123  http://www.nea.gov.sg/images/default-source/Ha...            Existing  \n124  http://www.nea.gov.sg/images/default-source/Ha...            Existing  \n\n[125 rows x 41 columns]",
      "text/html": "<div>\n<style scoped>\n    .dataframe tbody tr th:only-of-type {\n        vertical-align: middle;\n    }\n\n    .dataframe tbody tr th {\n        vertical-align: top;\n    }\n\n    .dataframe thead th {\n        text-align: right;\n    }\n</style>\n<table border=\"1\" class=\"dataframe\">\n  <thead>\n    <tr style=\"text-align: right;\">\n      <th></th>\n      <th>_id</th>\n      <th>serial_no</th>\n      <th>name</th>\n      <th>q1_cleaningstartdate</th>\n      <th>q1_cleaningenddate</th>\n      <th>remarks_q1</th>\n      <th>q2_cleaningstartdate</th>\n      <th>q2_cleaningenddate</th>\n      <th>remarks_q2</th>\n      <th>q3_cleaningstartdate</th>\n      <th>...</th>\n      <th>ADDRESS_MYENV</th>\n      <th>DESCRIPTION_MYENV</th>\n      <th>ADDRESSTYPE</th>\n      <th>ADDRESSBLOCKHOUSENUMBER</th>\n      <th>ADDRESSSTREETNAME</th>\n      <th>ADDRESSPOSTALCODE</th>\n      <th>ADDRESSBUILDINGNAME</th>\n      <th>REGION</th>\n      <th>PHOTOURL</th>\n      <th>STATUS</th>\n    </tr>\n  </thead>\n  <tbody>\n    <tr>\n      <th>0</th>\n      <td>8.0</td>\n      <td>8.0</td>\n      <td>Ang Mo Kio Ave 10 Blk 527 (Cheng San Market an...</td>\n      <td>4/1/2021</td>\n      <td>8/1/2021</td>\n      <td>nil</td>\n      <td>5/4/2021</td>\n      <td>6/4/2021</td>\n      <td>nil</td>\n      <td>27/9/2021</td>\n      <td>...</td>\n      <td>Blk 527, Ang Mo Kio Ave 10, Singapore 560527</td>\n      <td>Commonly known as Cheng San Market and Cooked ...</td>\n      <td>I</td>\n      <td>527</td>\n      <td>Ang Mo Kio Ave 10</td>\n      <td>560527.0</td>\n      <td>NaN</td>\n      <td>North</td>\n      <td>http://www.nea.gov.sg/images/default-source/Ha...</td>\n      <td>Existing</td>\n    </tr>\n    <tr>\n      <th>1</th>\n      <td>13.0</td>\n      <td>13.0</td>\n      <td>Bedok Food Centre</td>\n      <td>15/3/2021</td>\n      <td>15/3/2021</td>\n      <td>nil</td>\n      <td>7/6/2021</td>\n      <td>8/6/2021</td>\n      <td>nil</td>\n      <td>13/9/2021</td>\n      <td>...</td>\n      <td>1, Bedok Road, Singapore 469572</td>\n      <td>Located at the corner of Upper East Coast Road...</td>\n      <td>I</td>\n      <td>1</td>\n      <td>Bedok Road</td>\n      <td>469572.0</td>\n      <td>NaN</td>\n      <td>East</td>\n      <td>http://www.nea.gov.sg/images/default-source/Ha...</td>\n      <td>Existing</td>\n    </tr>\n    <tr>\n      <th>2</th>\n      <td>43.0</td>\n      <td>43.0</td>\n      <td>East Coast Lagoon Food Village</td>\n      <td>TBC</td>\n      <td>TBC</td>\n      <td>nil</td>\n      <td>26/4/2021</td>\n      <td>27/4/2021</td>\n      <td>nil</td>\n      <td>26/7/2021</td>\n      <td>...</td>\n      <td>1220, East Coast Parkway, Singapore 468960</td>\n      <td>Located in the south-eastern part of Singapore...</td>\n      <td>I</td>\n      <td>1220</td>\n      <td>East Coast Parkway</td>\n      <td>468960.0</td>\n      <td>NaN</td>\n      <td>East</td>\n      <td>http://www.nea.gov.sg/images/default-source/Ha...</td>\n      <td>Existing</td>\n    </tr>\n    <tr>\n      <th>3</th>\n      <td>56.0</td>\n      <td>56.0</td>\n      <td>Jalan Batu Blk 4A (Blk 4A Jalan Batu Hawker Ce...</td>\n      <td>TBC</td>\n      <td>TBC</td>\n      <td>nil</td>\n      <td>7/6/2021</td>\n      <td>8/6/2021</td>\n      <td>nil</td>\n      <td>13/9/2021</td>\n      <td>...</td>\n      <td>Blk 4A, Jalan Batu, Singapore 432004</td>\n      <td>Built in 1969, Blk 4A Jalan Batu comprises bot...</td>\n      <td>I</td>\n      <td>4A</td>\n      <td>Jalan Batu</td>\n      <td>432004.0</td>\n      <td>NaN</td>\n      <td>East</td>\n      <td>http://www.nea.gov.sg/images/default-source/Ha...</td>\n      <td>Existing</td>\n    </tr>\n    <tr>\n      <th>4</th>\n      <td>86.0</td>\n      <td>86.0</td>\n      <td>Serangoon Garden Market</td>\n      <td>TBC</td>\n      <td>TBC</td>\n      <td>nil</td>\n      <td>14/6/2021</td>\n      <td>16/6/2021</td>\n      <td>nil</td>\n      <td>13/9/2021</td>\n      <td>...</td>\n      <td>49A, Serangoon Garden Way, Singapore 555945</td>\n      <td>Within walking distance from the famous Chomp ...</td>\n      <td>I</td>\n      <td>49A</td>\n      <td>Serangoon Garden Way</td>\n      <td>555945.0</td>\n      <td>NaN</td>\n      <td>North</td>\n      <td>http://www.nea.gov.sg/images/default-source/Ha...</td>\n      <td>Existing</td>\n    </tr>\n    <tr>\n      <th>...</th>\n      <td>...</td>\n      <td>...</td>\n      <td>...</td>\n      <td>...</td>\n      <td>...</td>\n      <td>...</td>\n      <td>...</td>\n      <td>...</td>\n      <td>...</td>\n      <td>...</td>\n      <td>...</td>\n      <td>...</td>\n      <td>...</td>\n      <td>...</td>\n      <td>...</td>\n      <td>...</td>\n      <td>...</td>\n      <td>...</td>\n      <td>...</td>\n      <td>...</td>\n      <td>...</td>\n    </tr>\n    <tr>\n      <th>120</th>\n      <td>62.0</td>\n      <td>62.0</td>\n      <td>Jurong West Hawker Centre</td>\n      <td>TBC</td>\n      <td>TBC</td>\n      <td>nil</td>\n      <td>TBC</td>\n      <td>TBC</td>\n      <td>nil</td>\n      <td>TBC</td>\n      <td>...</td>\n      <td>Blk 50, Jurong West St 61, Singapore 648202</td>\n      <td>Completed in 2017, Jurong West Hawker Centre p...</td>\n      <td>NaN</td>\n      <td>50</td>\n      <td>Jurong West Street 61</td>\n      <td>648202.0</td>\n      <td>Jurong West Hawker Centre</td>\n      <td>West</td>\n      <td>http://www.nea.gov.sg/images/default-source/Ha...</td>\n      <td>Under Construction</td>\n    </tr>\n    <tr>\n      <th>121</th>\n      <td>27.0</td>\n      <td>27.0</td>\n      <td>Bukit Merah View Blk 115 (Blk 115 Bukit Merah ...</td>\n      <td>15/3/2021</td>\n      <td>16/3/2021</td>\n      <td>nil</td>\n      <td>28/6/2021</td>\n      <td>29/6/2021</td>\n      <td>nil</td>\n      <td>27/9/2021</td>\n      <td>...</td>\n      <td>Blk 115, Bukit Merah View, Singapore 151115</td>\n      <td>Built in 1973, the hawker centre comprises 84 ...</td>\n      <td>I</td>\n      <td>115</td>\n      <td>Bukit Merah View</td>\n      <td>151115.0</td>\n      <td>NaN</td>\n      <td>West</td>\n      <td>http://www.nea.gov.sg/images/default-source/Ha...</td>\n      <td>Existing</td>\n    </tr>\n    <tr>\n      <th>122</th>\n      <td>28.0</td>\n      <td>28.0</td>\n      <td>Bukit Panjang Hawker Centre</td>\n      <td>8/3/2021</td>\n      <td>10/3/2021</td>\n      <td>nil</td>\n      <td>7/6/2021</td>\n      <td>8/6/2021</td>\n      <td>nil</td>\n      <td>6/9/2021</td>\n      <td>...</td>\n      <td>2 Bukit Panjang Ring Road, Singapore 679947</td>\n      <td>Bukit Panjang Hawker Centre &amp; Market is one of...</td>\n      <td>NaN</td>\n      <td>2</td>\n      <td>Bukit Panjang Ring Road</td>\n      <td>679947.0</td>\n      <td>NaN</td>\n      <td>West</td>\n      <td>http://www.nea.gov.sg/images/default-source/Ha...</td>\n      <td>Existing (new)</td>\n    </tr>\n    <tr>\n      <th>123</th>\n      <td>29.0</td>\n      <td>29.0</td>\n      <td>Bukit Timah Market</td>\n      <td>22/2/2021</td>\n      <td>22/2/2021</td>\n      <td>nil</td>\n      <td>31/5/2021</td>\n      <td>2/6/2021</td>\n      <td>nil</td>\n      <td>13/9/2021</td>\n      <td>...</td>\n      <td>51, Upper Bukit Timah Road, Singapore 588215</td>\n      <td>Located along Upper Bukit Timah Road, the two-...</td>\n      <td>I</td>\n      <td>51</td>\n      <td>Upper Bukit Timah Road</td>\n      <td>588215.0</td>\n      <td>NaN</td>\n      <td>West</td>\n      <td>http://www.nea.gov.sg/images/default-source/Ha...</td>\n      <td>Existing</td>\n    </tr>\n    <tr>\n      <th>124</th>\n      <td>30.0</td>\n      <td>30.0</td>\n      <td>Cambridge Road Blk 41A (Pek Kio Market and Foo...</td>\n      <td>18/1/2021</td>\n      <td>18/1/2021</td>\n      <td>nil</td>\n      <td>19/4/2021</td>\n      <td>19/4/2021</td>\n      <td>nil</td>\n      <td>12/7/2021</td>\n      <td>...</td>\n      <td>Blk 41A, Cambridge Road, Singapore 211041</td>\n      <td>More commonly known as Pek Kio Market and Food...</td>\n      <td>I</td>\n      <td>41A</td>\n      <td>Cambridge Road</td>\n      <td>211041.0</td>\n      <td>NaN</td>\n      <td>Central</td>\n      <td>http://www.nea.gov.sg/images/default-source/Ha...</td>\n      <td>Existing</td>\n    </tr>\n  </tbody>\n</table>\n<p>125 rows × 41 columns</p>\n</div>"
     },
     "execution_count": 11,
     "metadata": {},
     "output_type": "execute_result"
    }
   ],
   "source": [
    "df_3 = pd.merge(df_1,df_2,how='right', left_on='name', right_on='NAME')\n",
    "df_3"
   ],
   "metadata": {
    "collapsed": false,
    "pycharm": {
     "name": "#%%\n"
    }
   }
  },
  {
   "cell_type": "code",
   "execution_count": 12,
   "outputs": [],
   "source": [
    "df_3.to_csv('tmp.csv')"
   ],
   "metadata": {
    "collapsed": false,
    "pycharm": {
     "name": "#%%\n"
    }
   }
  },
  {
   "cell_type": "code",
   "execution_count": null,
   "outputs": [],
   "source": [],
   "metadata": {
    "collapsed": false,
    "pycharm": {
     "name": "#%%\n"
    }
   }
  }
 ],
 "metadata": {
  "kernelspec": {
   "display_name": "Python 3",
   "language": "python",
   "name": "python3"
  },
  "language_info": {
   "codemirror_mode": {
    "name": "ipython",
    "version": 2
   },
   "file_extension": ".py",
   "mimetype": "text/x-python",
   "name": "python",
   "nbconvert_exporter": "python",
   "pygments_lexer": "ipython2",
   "version": "2.7.6"
  }
 },
 "nbformat": 4,
 "nbformat_minor": 0
}