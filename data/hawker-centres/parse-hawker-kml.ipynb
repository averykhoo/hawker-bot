{
 "cells": [
  {
   "cell_type": "code",
   "execution_count": 1,
   "metadata": {
    "pycharm": {
     "name": "#%%\n"
    }
   },
   "outputs": [],
   "source": [
    "from bs4 import BeautifulSoup"
   ]
  },
  {
   "cell_type": "code",
   "execution_count": 2,
   "metadata": {
    "pycharm": {
     "name": "#%%\n"
    }
   },
   "outputs": [],
   "source": [
    "with open('hawker-centres-kml.kml', 'rb') as f:\n",
    "    soup = BeautifulSoup(f.read(), 'lxml-xml')"
   ]
  },
  {
   "cell_type": "code",
   "execution_count": 3,
   "metadata": {
    "pycharm": {
     "name": "#%%\n"
    }
   },
   "outputs": [],
   "source": [
    "items = []\n",
    "for placemark in soup.find_all('Placemark'):\n",
    "    data = placemark.find('ExtendedData')\n",
    "    out = {\n",
    "        'NAME':None,\n",
    "        'LATITUDE':None,\n",
    "        'LONGITUDE':None,\n",
    "        'ADDRESS_MYENV':None,\n",
    "        'DESCRIPTION_MYENV':None,\n",
    "        'ADDRESSTYPE':None,\n",
    "        'ADDRESSBLOCKHOUSENUMBER':None,\n",
    "        'ADDRESSFLOORNUMBER':None,\n",
    "        'ADDRESSUNITNUMBER':None,\n",
    "        'ADDRESSSTREETNAME':None,\n",
    "        'ADDRESSPOSTALCODE':None,\n",
    "        'ADDRESSBUILDINGNAME':None,\n",
    "        'REGION':None,\n",
    "        'PHOTOURL':None,\n",
    "        'STATUS':None,\n",
    "        'RNR_STATUS':None,\n",
    "\n",
    "        'APPROXIMATE_GFA':None,\n",
    "        'AWARDED_DATE':None,\n",
    "        'CLEANINGENDDATE':None,\n",
    "        'CLEANINGSTARTDATE':None,\n",
    "        'DESCRIPTION':None,\n",
    "        'EST_ORIGINAL_COMPLETION_DATE':None,\n",
    "        'FMEL_UPD_D':None,\n",
    "        'HUP_COMPLETION_DATE':None,\n",
    "        'HYPERLINK':None,\n",
    "        'IMPLEMENTATION_DATE':None,\n",
    "        'INC_CRC':None,\n",
    "        'INFO_ON_CO_LOCATORS':None,\n",
    "        'LANDXADDRESSPOINT':None,\n",
    "        'LANDYADDRESSPOINT':None,\n",
    "        'NO_OF_FOOD_STALLS':None,\n",
    "        'NO_OF_MARKET_STALLS':None,\n",
    "    }\n",
    "    for _data in data.find_all('SimpleData'):\n",
    "        if _data['name'] in out:\n",
    "            out[_data['name']] = _data.text\n",
    "    for point in placemark.find_all('Point'):\n",
    "        lon,lat,alt = point.text.strip().split(',')\n",
    "        assert alt == '0.0'\n",
    "        out['point_lat'] = lat\n",
    "        out['point_lon'] = lon\n",
    "    items.append(out)"
   ]
  },
  {
   "cell_type": "code",
   "execution_count": 4,
   "metadata": {
    "pycharm": {
     "name": "#%%\n"
    }
   },
   "outputs": [],
   "source": [
    "import pandas as pd"
   ]
  },
  {
   "cell_type": "code",
   "execution_count": 5,
   "metadata": {
    "pycharm": {
     "name": "#%%\n"
    }
   },
   "outputs": [],
   "source": [
    "df = pd.DataFrame(items)"
   ]
  },
  {
   "cell_type": "code",
   "execution_count": 6,
   "metadata": {
    "pycharm": {
     "name": "#%%\n"
    }
   },
   "outputs": [],
   "source": [
    "df.to_csv('hawker-centres.csv', index=False)"
   ]
  },
  {
   "cell_type": "code",
   "execution_count": 6,
   "metadata": {
    "pycharm": {
     "name": "#%%\n"
    }
   },
   "outputs": [],
   "source": []
  }
 ],
 "metadata": {
  "kernelspec": {
   "display_name": "Python 3",
   "language": "python",
   "name": "python3"
  },
  "language_info": {
   "codemirror_mode": {
    "name": "ipython",
    "version": 3
   },
   "file_extension": ".py",
   "mimetype": "text/x-python",
   "name": "python",
   "nbconvert_exporter": "python",
   "pygments_lexer": "ipython3",
   "version": "3.8.8"
  }
 },
 "nbformat": 4,
 "nbformat_minor": 1
}
